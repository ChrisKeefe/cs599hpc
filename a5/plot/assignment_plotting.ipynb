{
 "cells": [
  {
   "cell_type": "code",
   "execution_count": 1,
   "id": "smart-moderator",
   "metadata": {},
   "outputs": [],
   "source": [
    "import pandas as pd\n",
    "import seaborn as sns\n",
    "import matplotlib.pyplot as plt\n",
    "# %matplotlib inline"
   ]
  },
  {
   "cell_type": "code",
   "execution_count": 2,
   "id": "nonprofit-median",
   "metadata": {},
   "outputs": [],
   "source": [
    "iono_data = pd.read_csv('../iono_57min_5.16Mpts_2D.txt', names=['x', 'y'])\n",
    "centroid_data = pd.read_csv('../a1/test_centers.tsv', sep='\\t', names=['x', 'y'], index_col=False)"
   ]
  },
  {
   "cell_type": "code",
   "execution_count": 3,
   "id": "consistent-monroe",
   "metadata": {},
   "outputs": [
    {
     "name": "stdout",
     "output_type": "stream",
     "text": [
      "             x          y        set\n",
      "0   131.134552  44.337551       iono\n",
      "1   131.145309  44.298550       iono\n",
      "2   131.156158  44.259609       iono\n",
      "3   131.167068  44.220737       iono\n",
      "4   131.178070  44.181927       iono\n",
      "..         ...        ...        ...\n",
      "5   134.251031  35.426603  centroids\n",
      "6   172.395338 -40.303558  centroids\n",
      "7   225.007774 -61.666466  centroids\n",
      "8    42.709692 -32.863394  centroids\n",
      "9   285.450247  29.444056  centroids\n",
      "\n",
      "[5159747 rows x 3 columns]\n"
     ]
    }
   ],
   "source": [
    "iono_data['set'] = 'iono'\n",
    "centroid_data['set'] = 'centroids'\n",
    "all_data = pd.concat([iono_data, centroid_data])\n",
    "print(all_data)"
   ]
  },
  {
   "cell_type": "code",
   "execution_count": 4,
   "id": "initial-thing",
   "metadata": {},
   "outputs": [
    {
     "data": {
      "text/plain": [
       "<matplotlib.axes._subplots.AxesSubplot at 0x7f861498e908>"
      ]
     },
     "execution_count": 4,
     "metadata": {},
     "output_type": "execute_result"
    }
   ],
   "source": [
    "sns.scatterplot(data=all_data, x='x', y='y', edgecolor='none', style='set', hue='set', legend=False)"
   ]
  },
  {
   "cell_type": "code",
   "execution_count": 5,
   "id": "solar-solid",
   "metadata": {},
   "outputs": [],
   "source": [
    "plt.savefig('k10.png', dpi=300)"
   ]
  },
  {
   "cell_type": "code",
   "execution_count": null,
   "id": "similar-exchange",
   "metadata": {},
   "outputs": [],
   "source": []
  }
 ],
 "metadata": {
  "kernelspec": {
   "display_name": "Python 3",
   "language": "python",
   "name": "python3"
  },
  "language_info": {
   "codemirror_mode": {
    "name": "ipython",
    "version": 3
   },
   "file_extension": ".py",
   "mimetype": "text/x-python",
   "name": "python",
   "nbconvert_exporter": "python",
   "pygments_lexer": "ipython3",
   "version": "3.6.13"
  }
 },
 "nbformat": 4,
 "nbformat_minor": 5
}
