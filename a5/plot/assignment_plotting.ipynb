{
 "cells": [
  {
   "cell_type": "code",
   "execution_count": 1,
   "id": "smart-moderator",
   "metadata": {},
   "outputs": [],
   "source": [
    "import pandas as pd\n",
    "import seaborn as sns\n",
    "import matplotlib.pyplot as plt\n",
    "# %matplotlib inline"
   ]
  },
  {
   "cell_type": "code",
   "execution_count": null,
   "id": "nonprofit-median",
   "metadata": {},
   "outputs": [
    {
     "name": "stdout",
     "output_type": "stream",
     "text": [
      "test_centers_2.new.tsv\n"
     ]
    }
   ],
   "source": [
    "iono_data = pd.read_csv('../iono_57min_5.16Mpts_2D.txt', names=['x', 'y'])\n",
    "iono_data['set'] = 'iono'\n",
    "for i in [\"2.new\", \"25.new\", \"50.new\", \"100.new\"]:\n",
    "    datafile = 'test_centers_'+i+'.tsv'\n",
    "    print(datafile)\n",
    "    centroid_data = pd.read_csv(datafile, sep='\\t', names=['x', 'y'], index_col=False)\n",
    "    centroid_data['set'] = 'centroids'\n",
    "    all_data = pd.concat([iono_data, centroid_data])\n",
    "    # print(all_data)\n",
    "    sns.scatterplot(data=all_data, x='x', y='y', edgecolor='none', style='set', hue='set', legend=False)\n",
    "    savefile = 'k'+i+'.png'\n",
    "    plt.savefig(savefile, dpi=300)"
   ]
  },
  {
   "cell_type": "code",
   "execution_count": null,
   "id": "invalid-sailing",
   "metadata": {},
   "outputs": [],
   "source": []
  }
 ],
 "metadata": {
  "kernelspec": {
   "display_name": "Python 3",
   "language": "python",
   "name": "python3"
  },
  "language_info": {
   "codemirror_mode": {
    "name": "ipython",
    "version": 3
   },
   "file_extension": ".py",
   "mimetype": "text/x-python",
   "name": "python",
   "nbconvert_exporter": "python",
   "pygments_lexer": "ipython3",
   "version": "3.6.13"
  }
 },
 "nbformat": 4,
 "nbformat_minor": 5
}
